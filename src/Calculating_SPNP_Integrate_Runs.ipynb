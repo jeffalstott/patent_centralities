{
 "cells": [
  {
   "cell_type": "code",
   "execution_count": 1,
   "metadata": {
    "collapsed": true
   },
   "outputs": [],
   "source": [
    "data_directory = '../data/centralities/'\n",
    "class_system = 'USPC'\n",
    "controls_directory = data_directory+'controls/%s/'%class_system"
   ]
  },
  {
   "cell_type": "code",
   "execution_count": 2,
   "metadata": {
    "collapsed": true
   },
   "outputs": [],
   "source": [
    "n_controls = 230"
   ]
  },
  {
   "cell_type": "code",
   "execution_count": 3,
   "metadata": {
    "collapsed": true
   },
   "outputs": [],
   "source": [
    "import pandas as pd\n",
    "from pylab import *"
   ]
  },
  {
   "cell_type": "code",
   "execution_count": 4,
   "metadata": {
    "collapsed": true
   },
   "outputs": [],
   "source": [
    "import gc\n",
    "from time import time"
   ]
  },
  {
   "cell_type": "code",
   "execution_count": 5,
   "metadata": {
    "collapsed": false
   },
   "outputs": [],
   "source": [
    "empirical = pd.read_hdf(data_directory+'empirical.h5', 'df')"
   ]
  },
  {
   "cell_type": "code",
   "execution_count": null,
   "metadata": {
    "collapsed": true
   },
   "outputs": [],
   "source": [
    "def running_stats(empirical,\n",
    "                  df_name,\n",
    "                  file_name,\n",
    "                  controls_directory=controls_directory,\n",
    "                  n_controls=n_controls,\n",
    "                 ):\n",
    "    M = None\n",
    "    all_max = None\n",
    "    all_min = None\n",
    "    t = time()\n",
    "    for randomization_id in range(n_controls):\n",
    "\n",
    "        if not randomization_id%10:\n",
    "            print(randomization_id)\n",
    "            print(\"%.0f seconds\"%(time()-t))\n",
    "            t = time()\n",
    "        \n",
    "        f = '%s_%i.h5'%(file_name, randomization_id)\n",
    "        try:\n",
    "            x = pd.read_hdf(controls_directory+f, df_name)\n",
    "        except:\n",
    "            print(\"Data not loading for %s. Continuing.\"%f)\n",
    "            continue\n",
    "            \n",
    "\n",
    "        if M is None:\n",
    "            M = x\n",
    "            S = 0\n",
    "#             all_max = M\n",
    "#             all_min = M\n",
    "            p = 0\n",
    "            k = 0\n",
    "            continue\n",
    "        k += 1.0\n",
    "        M_previous = M\n",
    "#         M = M_previous.add( x.subtract(M_previous)/k )\n",
    "#         S = ( x.subtract(M_previous).multiply( x.subtract(M) ) ).add(S)\n",
    "        M = M_previous+((x-M_previous)/k)\n",
    "        S += (x-M_previous)*(x-M)\n",
    "        p += (empirical>x).astype('int')\n",
    "#         all_max = maximum(all_max, x)\n",
    "#         all_min = minimum(all_min, x)\n",
    "        gc.collect()  \n",
    "#     standard_deviation = sqrt(S/(k-1))\n",
    "\n",
    "    return M, S, p, k"
   ]
  },
  {
   "cell_type": "code",
   "execution_count": null,
   "metadata": {
    "collapsed": false
   },
   "outputs": [
    {
     "name": "stdout",
     "output_type": "stream",
     "text": [
      "0\n",
      "0 seconds\n",
      "Data not loading for synthetic_control_2.h5. Continuing.\n",
      "Data not loading for synthetic_control_3.h5. Continuing.\n",
      "10\n",
      "28 seconds\n"
     ]
    }
   ],
   "source": [
    "M, S, p, k = running_stats(empirical, 'df', 'synthetic_control', controls_directory)"
   ]
  },
  {
   "cell_type": "code",
   "execution_count": null,
   "metadata": {
    "collapsed": false
   },
   "outputs": [],
   "source": [
    "standard_deviation = sqrt(S/(k-1))\n",
    "empirical_percentile = p/k"
   ]
  },
  {
   "cell_type": "code",
   "execution_count": null,
   "metadata": {
    "collapsed": true
   },
   "outputs": [],
   "source": [
    "for df in [M, standard_deviation, empirical_percentile]:\n",
    "    df['patent_number'] = empirical['patent_number']\n",
    "    df['filing_year'] = empirical['filing_year']"
   ]
  },
  {
   "cell_type": "code",
   "execution_count": null,
   "metadata": {
    "collapsed": false
   },
   "outputs": [],
   "source": [
    "store = pd.HDFStore(data_directory+'summary_statistics.h5',\n",
    "                        mode='a', table=True)\n",
    "store.put('/randomized_mean_%s'%(class_system), M, 'table', append=False)\n",
    "store.put('/randomized_std_%s'%(class_system), standard_deviation, 'table', append=False)\n",
    "\n",
    "store.put('/empirical_percentile_%s'%(class_system), empirical_percentile, 'table', append=False)\n",
    "# store.put('/randomized_min_%s'%(class_system), all_min, 'table', append=False)\n",
    "\n",
    "z_scores = (empirical-M)/standard_deviation\n",
    "\n",
    "z_scores.values[where(z_scores==inf)]=nan \n",
    "z_scores.values[where(z_scores==-inf)]=nan \n",
    "#All the cases where the z-scores are inf is where the 1,000 randomized controls said there should be 0 deviation, BUT\n",
    "#the empirical case was different anyway. In each of these cases, the empirical case was JUST slightly off. Sometimes\n",
    "#a floating point error, and sometimes off by 1 (the minimal amount for citation counts). We shall treat this as not actually\n",
    "#deviating, and so it becomes 0/0, which is equal to nan.\n",
    "\n",
    "store.put('/empirical_z_scores_%s'%(class_system), z_scores, 'table', append=False)\n",
    "\n",
    "store.put('/empirical', empirical, 'table', append=False)\n",
    "\n",
    "store.close()"
   ]
  },
  {
   "cell_type": "code",
   "execution_count": null,
   "metadata": {
    "collapsed": true
   },
   "outputs": [],
   "source": [
    "cp /home/jeffrey_alstott/technoinnovation/patent_centralities/data/centralities/summary_statistics.h5 /home/jeffrey_alstott/Dropbox/TechnoInnovation/"
   ]
  }
 ],
 "metadata": {
  "anaconda-cloud": {},
  "kernelspec": {
   "display_name": "Python [default]",
   "language": "python",
   "name": "python3"
  },
  "language_info": {
   "codemirror_mode": {
    "name": "ipython",
    "version": 3
   },
   "file_extension": ".py",
   "mimetype": "text/x-python",
   "name": "python",
   "nbconvert_exporter": "python",
   "pygments_lexer": "ipython3",
   "version": "3.5.2"
  }
 },
 "nbformat": 4,
 "nbformat_minor": 1
}
