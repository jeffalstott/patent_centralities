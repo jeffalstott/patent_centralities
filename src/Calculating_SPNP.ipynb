{
 "cells": [
  {
   "cell_type": "code",
   "execution_count": 1,
   "metadata": {
    "collapsed": true
   },
   "outputs": [],
   "source": [
    "# data_directory = '../data/'\n",
    "# randomized_control = False\n",
    "# randomization_id = 1\n",
    "class_system = 'USPC'"
   ]
  },
  {
   "cell_type": "markdown",
   "metadata": {},
   "source": [
    "# Import Libraries"
   ]
  },
  {
   "cell_type": "code",
   "execution_count": 2,
   "metadata": {
    "collapsed": true
   },
   "outputs": [],
   "source": [
    "import pandas as pd\n",
    "from pylab import *\n",
    "import gc\n",
    "from tqdm import *\n",
    "import igraph as igraph\n",
    "import time"
   ]
  },
  {
   "cell_type": "code",
   "execution_count": 3,
   "metadata": {
    "collapsed": true
   },
   "outputs": [],
   "source": [
    "start_time = time.time()"
   ]
  },
  {
   "cell_type": "markdown",
   "metadata": {},
   "source": [
    "Define Functions\n",
    "==="
   ]
  },
  {
   "cell_type": "code",
   "execution_count": 4,
   "metadata": {
    "collapsed": true
   },
   "outputs": [],
   "source": [
    "def create_patent_citation_graph(PATENT_INFO, citations):\n",
    "    ti = time.time()\n",
    "    print('create igraph object and populate it with patent attributes')\n",
    "    G = igraph.Graph(directed=True)\n",
    "\n",
    "    ##### add nodes ####\n",
    "    print('step 1: add nodes')\n",
    "    num_nodes = shape(PATENT_INFO)[0]\n",
    "    G.add_vertices(num_nodes)\n",
    "\n",
    "    #### add nodes attributes ####\n",
    "    print('step 2: add node attributes')\n",
    "    for x in PATENT_INFO.columns:\n",
    "        G.vs[x] = array(PATENT_INFO[x])\n",
    "        #if x == 'patent_number': continue\n",
    "        #else: G.vs[x] = array(PATENT_INFO[x])\n",
    "\n",
    "    #### add edges ####\n",
    "    print('step 3: add edges')\n",
    "    # create a series with 'patent_number' as index and ID from zero to N as values. \n",
    "    # We will then use it to translate the edgelist from patent numbers to patent IDs. We will use 'map' for that\n",
    "    PATENT_INFO['ID'] = range(shape(PATENT_INFO)[0])\n",
    "    series_patent_ids = PATENT_INFO[['ID','patent_number']].set_index('patent_number').ix[:,0] #s = df.ix[:,0] <-- this create a series out of a dataframe (see: http://stackoverflow.com/questions/15360925/how-to-get-the-first-column-of-a-pandas-dataframe-as-a-series)\n",
    "    # Now map patent numbers to IDs in our edgelist\n",
    "    citations['citing_numerical_id'] = citations['Citing_Patent'].map(series_patent_ids) # see: http://stackoverflow.com/questions/25653652/how-to-replace-efficiently-values-on-a-pandas-dataframe\n",
    "    citations['cited_numerical_id'] = citations['Cited_Patent'].map(series_patent_ids)\n",
    "    \n",
    "\n",
    "    # create edgelist with IDs, not patent_numbers (to understand why see:http://igraph.org/python/doc/tutorial/tutorial.html)\n",
    "    # incidentally, the index of the edgelist dataframe is the edge ID in the igraph object (unless we later remove nodes or edges)\n",
    "    edgelist = citations[['cited_numerical_id','citing_numerical_id']]\n",
    "\n",
    "    # now populate our graph G with edges. We will then be able to select subgraphs based on nodes (or edges) attributes\n",
    "    G.add_edges(edgelist.to_records(index=False))\n",
    "\n",
    "    del edgelist\n",
    "    gc.collect()\n",
    "\n",
    "    tf = time.time()\n",
    "    time_length = (tf-ti)/60 # unit = minutes\n",
    "    print(\"Done! Elapsed time: %f minutes\" %time_length) # takes 8.2 minutes to run\n",
    "    return G"
   ]
  },
  {
   "cell_type": "code",
   "execution_count": 5,
   "metadata": {
    "collapsed": true
   },
   "outputs": [],
   "source": [
    "def topologically_sort_graph(G):\n",
    "    if not G.is_dag():\n",
    "        print('Graph is not DAG. If you continue the topological sorting algorithm will be stuck in an endless search. Remove cycles before to continue!')\n",
    "        raise ValueError\n",
    "    layers = -1 * ones(G.vcount())\n",
    "    nodes_in_this_layer = where(array(G.indegree())==0)[0]\n",
    "    layer = 0\n",
    "\n",
    "    while nodes_in_this_layer.any():\n",
    "        layers[nodes_in_this_layer] = layer\n",
    "        layer += 1\n",
    "        nodes_in_this_layer = G.neighborhood(vertices=nodes_in_this_layer.tolist(), order=1, mode='OUT')\n",
    "        nodes_in_this_layer = unique([item for sublist in nodes_in_this_layer for item in sublist[1:]])\n",
    "    return layers"
   ]
  },
  {
   "cell_type": "code",
   "execution_count": 6,
   "metadata": {
    "collapsed": true,
    "scrolled": true
   },
   "outputs": [],
   "source": [
    "def search_path_count_of_graph(G, mode='IN', layer_name='layer'):\n",
    "    layers = G.vs[layer_name]\n",
    "    if mode=='IN':\n",
    "        layer_values = arange(2,max(layers)+1)\n",
    "    elif mode=='OUT':\n",
    "        layer_values = arange(max(layers)-2, -1, -1)\n",
    "    count_paths = array(G.degree(mode=mode))\n",
    "    for layer in layer_values:\n",
    "        for n in where(layers==layer)[0]:\n",
    "            neighbors = G.neighbors(n, mode=mode)\n",
    "            if neighbors:\n",
    "            #Each node's count of incoming paths is the sum of its predecessors' count of incoming paths\n",
    "                count_paths[n] += sum(count_paths[array(neighbors)])\n",
    "    return count_paths"
   ]
  },
  {
   "cell_type": "code",
   "execution_count": 7,
   "metadata": {
    "collapsed": true
   },
   "outputs": [],
   "source": [
    "### Define functions to generate random controls\n",
    "def randomize_citations(citations,\n",
    "                        patent_attributes):\n",
    "    citations_randomized = citations.copy()\n",
    "    not_same_year = citations_randomized['Year_Citing_Patent']!=citations_randomized['Year_Cited_Patent']\n",
    "    ### Take the same-class citations of every class and permute them.\n",
    "    print(\"Randomizing Same-Class Citations\")\n",
    "    same_class_ind = citations_randomized['Class_Citing_Patent']==citations_randomized['Class_Cited_Patent']\n",
    "    cross_class_ind = -same_class_ind \n",
    "    same_class_ind = same_class_ind & not_same_year\n",
    "    grouper = citations_randomized.ix[same_class_ind].groupby(['Year_Citing_Patent', \n",
    "                                                               'Year_Cited_Patent', \n",
    "                                                               'Class_Citing_Patent', \n",
    "                                                              ])[['Citing_Patent', \n",
    "                                                                  'Cited_Patent']]\n",
    "    print(\"%i groups\"%(len(grouper)))\n",
    "    print(\"%i groups that can be rewired\"%(sum(grouper.size()>1)))\n",
    "    g = grouper.apply(randomize_citations_helper)\n",
    "#     g.index = g.index.droplevel(['Year_Citing_Patent','Year_Cited_Patent','Class_Citing_Patent'])\n",
    "\n",
    "    citations_randomized.ix[same_class_ind, ['Citing_Patent', \n",
    "                                             'Cited_Patent']\n",
    "                            ] = g\n",
    "\n",
    "    ### Take the cross-class citations and permute them.\n",
    "    print(\"Randomizing Cross-Class Citations\")        \n",
    "    cross_class_ind = cross_class_ind & not_same_year\n",
    "    grouper = citations_randomized.ix[cross_class_ind].groupby(['Year_Citing_Patent', \n",
    "                                                               'Year_Cited_Patent', \n",
    "                                                              ])[['Citing_Patent', \n",
    "                                                                  'Cited_Patent']]\n",
    "    print(\"%i groups\"%(len(grouper)))\n",
    "    print(\"%i groups that can be rewired\"%(sum(grouper.size()>1)))\n",
    "    g = grouper.apply(randomize_citations_helper)\n",
    "#     g.index = g.index.droplevel(['Year_Citing_Patent','Year_Cited_Patent'])\n",
    "\n",
    "    citations_randomized.ix[cross_class_ind, ['Citing_Patent', \n",
    "                                             'Cited_Patent']\n",
    "                            ] = g\n",
    "    \n",
    "    ### Drop patent attributes (which are now inaccurate for both the citing and cited patent) and bring them in from patent_attributes\n",
    "    citations_randomized.drop(['Class_Citing_Patent', 'Class_Cited_Patent'], axis=1, inplace=True)\n",
    "#     citations_randomized = citations_randomized[['Citing_Patent', 'Cited_Patent', 'Same_Class']]\n",
    "\n",
    "    patent_attributes = patent_attributes[['patent_number', 'Class']].set_index('patent_number')\n",
    "    citations_randomized = citations_randomized.merge(patent_attributes, \n",
    "                    left_on='Citing_Patent', \n",
    "                    right_index=True,\n",
    "                    )\n",
    "\n",
    "    citations_randomized = citations_randomized.merge(patent_attributes, \n",
    "                    left_on='Cited_Patent', \n",
    "                    right_index=True,\n",
    "                    suffixes=('_Citing_Patent','_Cited_Patent'))\n",
    "    return citations_randomized\n",
    "\n",
    "\n",
    "def randomize_citations_helper(citing_cited):\n",
    "\n",
    "#     if all(citing_cited['Year_Citing_Patent']==citing_cited['Year_Cited_Patent']):\n",
    "#         return citing_cited[['Citing_Patent', 'Cited_Patent']]\n",
    "    n_Citing = citing_cited.Citing_Patent.nunique()\n",
    "    n_Cited = citing_cited.Cited_Patent.nunique()\n",
    "    \n",
    "    if n_Cited*n_Citing==citing_cited.shape[0]: #The graph is fully connected, and so can't be rewired\n",
    "        return citing_cited#[['Citing_Patent', 'Cited_Patent']]\n",
    "    \n",
    "#     Citing_lookup = pd.Series(index=citing_cited.Citing_Patent.unique(),\n",
    "#                               data=1+arange(n_Citing))\n",
    "#     Cited_lookup = pd.Series(index=citing_cited.Cited_Patent.unique(),\n",
    "#                              data=1+arange(n_Cited))\n",
    "#     input_to_Birewire = array([Citing_lookup.ix[citing_cited.Citing_Patent].values,\n",
    "#                                Cited_lookup.ix[citing_cited.Cited_Patent].values + n_Citing]).T\n",
    "    citing_lookup = citing_cited['Citing_Patent'].astype('category')\n",
    "    cited_lookup = citing_cited['Cited_Patent'].astype('category')\n",
    "    input_to_Birewire = array([citing_lookup.cat.codes.values.astype('uint64'),\n",
    "                               cited_lookup.cat.codes.values.astype('uint64') + n_Citing]).T+1\n",
    "#     citing_cited.Citing_Patent = Citing_lookup.ix[citing_cited.Citing_Patent].values\n",
    "#     citing_cited.Cited_Patent = Cited_lookup.ix[citing_cited.Cited_Patent].values\n",
    "#     citing_cited.Cited_Patent += n_Citing\n",
    "    import BiRewire\n",
    "    this_rewiring = BiRewire.Rewiring(data=input_to_Birewire,\n",
    "                               type_of_array='edgelist_b',\n",
    "                               type_of_graph='bipartite')\n",
    "    this_rewiring.rewire(verbose=0)   \n",
    "    z = this_rewiring.data_rewired-1\n",
    "\n",
    "\n",
    "#     Citing_lookup = pd.DataFrame(Citing_lookup).reset_index().set_index(0)\n",
    "#     Cited_lookup = pd.DataFrame(Cited_lookup).reset_index().set_index(0)\n",
    "#     citing_patents = Citing_lookup.ix[z[:,0]].values.flatten()\n",
    "#     cited_patents = Cited_lookup.ix[z[:,1]-n_Citing].values.flatten()\n",
    "    \n",
    "    citing_patents = citing_lookup.cat.categories.values[z[:,0]]\n",
    "    cited_patents = cited_lookup.cat.categories.values[z[:,1]-n_Citing]\n",
    "\n",
    "    rewired_output = pd.DataFrame(index=citing_cited.index,\n",
    "                                 columns=['Citing_Patent', 'Cited_Patent']\n",
    "                                  )\n",
    "    rewired_output['Citing_Patent'] = citing_patents\n",
    "    rewired_output['Cited_Patent'] = cited_patents\n",
    "    return rewired_output"
   ]
  },
  {
   "cell_type": "markdown",
   "metadata": {},
   "source": [
    "# Load Data "
   ]
  },
  {
   "cell_type": "code",
   "execution_count": 8,
   "metadata": {
    "collapsed": true
   },
   "outputs": [],
   "source": [
    "patents = pd.read_hdf(data_directory+'patents.h5', 'df')\n",
    "citations = pd.read_hdf(data_directory+'citations.h5', 'df')"
   ]
  },
  {
   "cell_type": "markdown",
   "metadata": {},
   "source": [
    "Randomize Citations\n",
    "===\n",
    "If requested"
   ]
  },
  {
   "cell_type": "code",
   "execution_count": 9,
   "metadata": {
    "collapsed": true
   },
   "outputs": [],
   "source": [
    "if randomized_control:\n",
    "    ti = time.time()\n",
    "    citations = randomize_citations(citations, patents)\n",
    "    tf = time.time()\n",
    "    final_time_length = tf-ti\n",
    "    print('Done! Randomizing citations took: %f seconds' %final_time_length + '= %f minutes' %(final_time_length/60))"
   ]
  },
  {
   "cell_type": "markdown",
   "metadata": {},
   "source": [
    "Compute SPNP\n",
    "==="
   ]
  },
  {
   "cell_type": "code",
   "execution_count": 10,
   "metadata": {},
   "outputs": [
    {
     "name": "stdout",
     "output_type": "stream",
     "text": [
      "create igraph object and populate it with patent attributes\n",
      "step 1: add nodes\n",
      "step 2: add node attributes\n",
      "step 3: add edges\n"
     ]
    },
    {
     "name": "stderr",
     "output_type": "stream",
     "text": [
      "/home/jeffrey_alstott/anaconda3/lib/python3.5/site-packages/ipykernel/__main__.py:23: DeprecationWarning: \n",
      ".ix is deprecated. Please use\n",
      ".loc for label based indexing or\n",
      ".iloc for positional indexing\n",
      "\n",
      "See the documentation here:\n",
      "http://pandas.pydata.org/pandas-docs/stable/indexing.html#deprecate_ix\n"
     ]
    },
    {
     "name": "stdout",
     "output_type": "stream",
     "text": [
      "Done! Elapsed time: 9.324115 minutes\n",
      "Graph is DAG, you can continue!\n"
     ]
    }
   ],
   "source": [
    "G = create_patent_citation_graph(patents, citations)\n",
    "if not G.is_dag():\n",
    "    print('Graph is not DAG. If you continue the topological sorting algorithm will be stuck in an endless search. Remove cycles before to continue!')\n",
    "    raise ValueError\n",
    "print('Graph is DAG, you can continue!')"
   ]
  },
  {
   "cell_type": "code",
   "execution_count": 11,
   "metadata": {},
   "outputs": [
    {
     "name": "stdout",
     "output_type": "stream",
     "text": [
      "43 layers\n"
     ]
    }
   ],
   "source": [
    "layers = topologically_sort_graph(G)\n",
    "G.vs['layer'] = layers\n",
    "print(\"%i layers\"%max(layers))"
   ]
  },
  {
   "cell_type": "code",
   "execution_count": 12,
   "metadata": {
    "collapsed": true
   },
   "outputs": [],
   "source": [
    "count_incoming_paths = array(search_path_count_of_graph(G, mode='IN'))\n",
    "G.vs['count_incoming_paths'] = count_incoming_paths"
   ]
  },
  {
   "cell_type": "code",
   "execution_count": 13,
   "metadata": {},
   "outputs": [
    {
     "name": "stderr",
     "output_type": "stream",
     "text": [
      "/home/jeffrey_alstott/anaconda3/lib/python3.5/site-packages/ipykernel/__main__.py:2: DeprecationWarning: \n",
      ".ix is deprecated. Please use\n",
      ".loc for label based indexing or\n",
      ".iloc for positional indexing\n",
      "\n",
      "See the documentation here:\n",
      "http://pandas.pydata.org/pandas-docs/stable/indexing.html#deprecate_ix\n",
      "  from ipykernel import kernelapp as app\n",
      "  0%|          | 0/41 [00:00<?, ?it/s]"
     ]
    },
    {
     "name": "stdout",
     "output_type": "stream",
     "text": [
      "Memory allocated to DF_node_SPNP_over_time: 3.653621 GBs\n",
      "1975.0\n"
     ]
    },
    {
     "name": "stderr",
     "output_type": "stream",
     "text": [
      "/home/jeffrey_alstott/anaconda3/lib/python3.5/site-packages/ipykernel/__main__.py:25: DeprecationWarning: \n",
      ".ix is deprecated. Please use\n",
      ".loc for label based indexing or\n",
      ".iloc for positional indexing\n",
      "\n",
      "See the documentation here:\n",
      "http://pandas.pydata.org/pandas-docs/stable/indexing.html#deprecate_ix\n",
      "  2%|▏         | 1/41 [00:24<16:35, 24.88s/it]"
     ]
    },
    {
     "name": "stdout",
     "output_type": "stream",
     "text": [
      "1976.0\n"
     ]
    },
    {
     "name": "stderr",
     "output_type": "stream",
     "text": [
      "\r",
      "  5%|▍         | 2/41 [00:49<16:12, 24.93s/it]"
     ]
    },
    {
     "name": "stdout",
     "output_type": "stream",
     "text": [
      "1977.0\n"
     ]
    },
    {
     "name": "stderr",
     "output_type": "stream",
     "text": [
      "\r",
      "  7%|▋         | 3/41 [01:16<16:02, 25.32s/it]"
     ]
    },
    {
     "name": "stdout",
     "output_type": "stream",
     "text": [
      "1978.0\n"
     ]
    },
    {
     "name": "stderr",
     "output_type": "stream",
     "text": [
      "\r",
      " 10%|▉         | 4/41 [01:43<15:56, 25.85s/it]"
     ]
    },
    {
     "name": "stdout",
     "output_type": "stream",
     "text": [
      "1979.0\n"
     ]
    },
    {
     "name": "stderr",
     "output_type": "stream",
     "text": [
      "\r",
      " 12%|█▏        | 5/41 [02:10<15:47, 26.32s/it]"
     ]
    },
    {
     "name": "stdout",
     "output_type": "stream",
     "text": [
      "1980.0\n"
     ]
    },
    {
     "name": "stderr",
     "output_type": "stream",
     "text": [
      "\r",
      " 15%|█▍        | 6/41 [02:39<15:48, 27.09s/it]"
     ]
    },
    {
     "name": "stdout",
     "output_type": "stream",
     "text": [
      "1981.0\n"
     ]
    },
    {
     "name": "stderr",
     "output_type": "stream",
     "text": [
      "\r",
      " 17%|█▋        | 7/41 [03:09<15:50, 27.96s/it]"
     ]
    },
    {
     "name": "stdout",
     "output_type": "stream",
     "text": [
      "1982.0\n"
     ]
    },
    {
     "name": "stderr",
     "output_type": "stream",
     "text": [
      "\r",
      " 20%|█▉        | 8/41 [03:40<15:54, 28.91s/it]"
     ]
    },
    {
     "name": "stdout",
     "output_type": "stream",
     "text": [
      "1983.0\n"
     ]
    },
    {
     "name": "stderr",
     "output_type": "stream",
     "text": [
      "\r",
      " 22%|██▏       | 9/41 [04:12<15:55, 29.85s/it]"
     ]
    },
    {
     "name": "stdout",
     "output_type": "stream",
     "text": [
      "1984.0\n"
     ]
    },
    {
     "name": "stderr",
     "output_type": "stream",
     "text": [
      "\r",
      " 24%|██▍       | 10/41 [04:45<15:55, 30.83s/it]"
     ]
    },
    {
     "name": "stdout",
     "output_type": "stream",
     "text": [
      "1985.0\n"
     ]
    },
    {
     "name": "stderr",
     "output_type": "stream",
     "text": [
      "\r",
      " 27%|██▋       | 11/41 [05:20<16:02, 32.08s/it]"
     ]
    },
    {
     "name": "stdout",
     "output_type": "stream",
     "text": [
      "1986.0\n"
     ]
    },
    {
     "name": "stderr",
     "output_type": "stream",
     "text": [
      "\r",
      " 29%|██▉       | 12/41 [05:57<16:13, 33.58s/it]"
     ]
    },
    {
     "name": "stdout",
     "output_type": "stream",
     "text": [
      "1987.0\n"
     ]
    },
    {
     "name": "stderr",
     "output_type": "stream",
     "text": [
      "\r",
      " 32%|███▏      | 13/41 [06:37<16:28, 35.29s/it]"
     ]
    },
    {
     "name": "stdout",
     "output_type": "stream",
     "text": [
      "1988.0\n"
     ]
    },
    {
     "name": "stderr",
     "output_type": "stream",
     "text": [
      "\r",
      " 34%|███▍      | 14/41 [07:17<16:31, 36.70s/it]"
     ]
    },
    {
     "name": "stdout",
     "output_type": "stream",
     "text": [
      "1989.0\n"
     ]
    },
    {
     "name": "stderr",
     "output_type": "stream",
     "text": [
      "\r",
      " 37%|███▋      | 15/41 [07:59<16:35, 38.30s/it]"
     ]
    },
    {
     "name": "stdout",
     "output_type": "stream",
     "text": [
      "1990.0\n"
     ]
    },
    {
     "name": "stderr",
     "output_type": "stream",
     "text": [
      "\r",
      " 39%|███▉      | 16/41 [08:43<16:41, 40.06s/it]"
     ]
    },
    {
     "name": "stdout",
     "output_type": "stream",
     "text": [
      "1991.0\n"
     ]
    },
    {
     "name": "stderr",
     "output_type": "stream",
     "text": [
      "\r",
      " 41%|████▏     | 17/41 [09:29<16:47, 41.96s/it]"
     ]
    },
    {
     "name": "stdout",
     "output_type": "stream",
     "text": [
      "1992.0\n"
     ]
    },
    {
     "name": "stderr",
     "output_type": "stream",
     "text": [
      "\r",
      " 44%|████▍     | 18/41 [10:18<16:52, 44.02s/it]"
     ]
    },
    {
     "name": "stdout",
     "output_type": "stream",
     "text": [
      "1993.0\n"
     ]
    },
    {
     "name": "stderr",
     "output_type": "stream",
     "text": [
      "\r",
      " 46%|████▋     | 19/41 [11:09<16:56, 46.20s/it]"
     ]
    },
    {
     "name": "stdout",
     "output_type": "stream",
     "text": [
      "1994.0\n"
     ]
    },
    {
     "name": "stderr",
     "output_type": "stream",
     "text": [
      "\r",
      " 49%|████▉     | 20/41 [12:04<17:01, 48.62s/it]"
     ]
    },
    {
     "name": "stdout",
     "output_type": "stream",
     "text": [
      "1995.0\n"
     ]
    },
    {
     "name": "stderr",
     "output_type": "stream",
     "text": [
      "\r",
      " 51%|█████     | 21/41 [13:01<17:07, 51.38s/it]"
     ]
    },
    {
     "name": "stdout",
     "output_type": "stream",
     "text": [
      "1996.0\n"
     ]
    },
    {
     "name": "stderr",
     "output_type": "stream",
     "text": [
      "\r",
      " 54%|█████▎    | 22/41 [14:03<17:12, 54.35s/it]"
     ]
    },
    {
     "name": "stdout",
     "output_type": "stream",
     "text": [
      "1997.0\n"
     ]
    },
    {
     "name": "stderr",
     "output_type": "stream",
     "text": [
      "\r",
      " 56%|█████▌    | 23/41 [15:08<17:19, 57.73s/it]"
     ]
    },
    {
     "name": "stdout",
     "output_type": "stream",
     "text": [
      "1998.0\n"
     ]
    },
    {
     "name": "stderr",
     "output_type": "stream",
     "text": [
      "\r",
      " 59%|█████▊    | 24/41 [16:19<17:25, 61.51s/it]"
     ]
    },
    {
     "name": "stdout",
     "output_type": "stream",
     "text": [
      "1999.0\n"
     ]
    },
    {
     "name": "stderr",
     "output_type": "stream",
     "text": [
      "\r",
      " 61%|██████    | 25/41 [17:34<17:30, 65.66s/it]"
     ]
    },
    {
     "name": "stdout",
     "output_type": "stream",
     "text": [
      "2000.0\n"
     ]
    },
    {
     "name": "stderr",
     "output_type": "stream",
     "text": [
      "\r",
      " 63%|██████▎   | 26/41 [18:59<17:49, 71.30s/it]"
     ]
    },
    {
     "name": "stdout",
     "output_type": "stream",
     "text": [
      "2001.0\n"
     ]
    },
    {
     "name": "stderr",
     "output_type": "stream",
     "text": [
      "\r",
      " 66%|██████▌   | 27/41 [20:30<18:02, 77.33s/it]"
     ]
    },
    {
     "name": "stdout",
     "output_type": "stream",
     "text": [
      "2002.0\n"
     ]
    },
    {
     "name": "stderr",
     "output_type": "stream",
     "text": [
      "\r",
      " 68%|██████▊   | 28/41 [22:07<18:03, 83.36s/it]"
     ]
    },
    {
     "name": "stdout",
     "output_type": "stream",
     "text": [
      "2003.0\n"
     ]
    },
    {
     "name": "stderr",
     "output_type": "stream",
     "text": [
      "\r",
      " 71%|███████   | 29/41 [23:52<17:56, 89.68s/it]"
     ]
    },
    {
     "name": "stdout",
     "output_type": "stream",
     "text": [
      "2004.0\n"
     ]
    },
    {
     "name": "stderr",
     "output_type": "stream",
     "text": [
      "\r",
      " 73%|███████▎  | 30/41 [25:43<17:38, 96.23s/it]"
     ]
    },
    {
     "name": "stdout",
     "output_type": "stream",
     "text": [
      "2005.0\n"
     ]
    },
    {
     "name": "stderr",
     "output_type": "stream",
     "text": [
      "\r",
      " 76%|███████▌  | 31/41 [27:43<17:13, 103.33s/it]"
     ]
    },
    {
     "name": "stdout",
     "output_type": "stream",
     "text": [
      "2006.0\n"
     ]
    },
    {
     "name": "stderr",
     "output_type": "stream",
     "text": [
      "\r",
      " 78%|███████▊  | 32/41 [29:49<16:29, 109.97s/it]"
     ]
    },
    {
     "name": "stdout",
     "output_type": "stream",
     "text": [
      "2007.0\n"
     ]
    },
    {
     "name": "stderr",
     "output_type": "stream",
     "text": [
      "\r",
      " 80%|████████  | 33/41 [32:01<15:32, 116.57s/it]"
     ]
    },
    {
     "name": "stdout",
     "output_type": "stream",
     "text": [
      "2008.0\n"
     ]
    },
    {
     "name": "stderr",
     "output_type": "stream",
     "text": [
      "\r",
      " 83%|████████▎ | 34/41 [34:19<14:22, 123.15s/it]"
     ]
    },
    {
     "name": "stdout",
     "output_type": "stream",
     "text": [
      "2009.0\n"
     ]
    },
    {
     "name": "stderr",
     "output_type": "stream",
     "text": [
      "\r",
      " 85%|████████▌ | 35/41 [36:44<12:58, 129.78s/it]"
     ]
    },
    {
     "name": "stdout",
     "output_type": "stream",
     "text": [
      "2010.0\n"
     ]
    },
    {
     "name": "stderr",
     "output_type": "stream",
     "text": [
      "\r",
      " 88%|████████▊ | 36/41 [39:16<11:22, 136.47s/it]"
     ]
    },
    {
     "name": "stdout",
     "output_type": "stream",
     "text": [
      "2011.0\n"
     ]
    },
    {
     "name": "stderr",
     "output_type": "stream",
     "text": [
      "\r",
      " 90%|█████████ | 37/41 [41:54<09:31, 142.87s/it]"
     ]
    },
    {
     "name": "stdout",
     "output_type": "stream",
     "text": [
      "2012.0\n"
     ]
    },
    {
     "name": "stderr",
     "output_type": "stream",
     "text": [
      "\r",
      " 93%|█████████▎| 38/41 [44:37<07:26, 148.96s/it]"
     ]
    },
    {
     "name": "stdout",
     "output_type": "stream",
     "text": [
      "2013.0\n"
     ]
    },
    {
     "name": "stderr",
     "output_type": "stream",
     "text": [
      "\r",
      " 95%|█████████▌| 39/41 [47:24<05:08, 154.37s/it]"
     ]
    },
    {
     "name": "stdout",
     "output_type": "stream",
     "text": [
      "2014.0\n"
     ]
    },
    {
     "name": "stderr",
     "output_type": "stream",
     "text": [
      "\r",
      " 98%|█████████▊| 40/41 [50:14<02:38, 158.85s/it]"
     ]
    },
    {
     "name": "stdout",
     "output_type": "stream",
     "text": [
      "2015.0\n"
     ]
    },
    {
     "name": "stderr",
     "output_type": "stream",
     "text": [
      "100%|██████████| 41/41 [53:04<00:00, 162.39s/it]\n"
     ]
    }
   ],
   "source": [
    "vc = pd.value_counts(G.vs['filing_year'])\n",
    "n_rows = vc.sort_index().cumsum().ix[1975:].sum()\n",
    "DF = pd.DataFrame(index=arange(n_rows), \n",
    "                  columns=[\"patent_number\",\n",
    "                           \"observation_year\",\n",
    "                          \"SPNP_count\",\n",
    "                           \"outgoing_path_count_log\",\n",
    "                           \"incoming_path_count_log\",\n",
    "                          ]\n",
    "#                   dtype='uint64'\n",
    "                 )\n",
    "size_in_GBs = (prod(DF.shape)*64)*1.25e-10\n",
    "print(\"Memory allocated to DF_node_SPNP_over_time: %f GBs\" %size_in_GBs)\n",
    "   \n",
    "year_list = arange(1975,max(G.vs['filing_year'])+1)\n",
    "this_year_data_start = 0\n",
    "for observation_year in tqdm(year_list):\n",
    "    print(observation_year)\n",
    "    patents_within_this_year = G.vs.select(filing_year_le=observation_year).indices\n",
    "    G_subgraph = G.subgraph(patents_within_this_year, \n",
    "                            implementation=\"auto\")\n",
    "    n_row = G_subgraph.vcount()\n",
    "    \n",
    "    DF.ix[this_year_data_start:this_year_data_start+n_row-1, \n",
    "          'outgoing_path_count_log'] = log(search_path_count_of_graph(G_subgraph, mode='OUT')+1)\n",
    "    DF.ix[this_year_data_start:this_year_data_start+n_row-1, \n",
    "          'incoming_path_count_log'] = log(count_incoming_paths[patents_within_this_year]+1)\n",
    "#     DF.ix[this_year_data_start:this_year_data_start+n_row-1, \n",
    "#           'SPNP_count'] = (log(search_path_count_of_graph(G_subgraph, mode='OUT')+1) +\n",
    "#                            log(count_incoming_paths[patents_within_this_year]+1)\n",
    "#                            )\n",
    "    DF.ix[this_year_data_start:this_year_data_start+n_row-1, \n",
    "          'patent_number'] = G_subgraph.vs['patent_number']\n",
    "    DF.ix[this_year_data_start:this_year_data_start+n_row-1, \n",
    "          'observation_year'] = observation_year\n",
    "    del G_subgraph\n",
    "    gc.collect()\n",
    "    this_year_data_start += n_row\n",
    "DF['observation_year'] = DF['observation_year'].astype('uint16')\n",
    "DF['patent_number'] = DF['patent_number'].astype('uint32')\n",
    "DF['outgoing_path_count_log'] = DF['outgoing_path_count_log'].astype('float64')\n",
    "DF['incoming_path_count_log'] = DF['incoming_path_count_log'].astype('float64')\n",
    "DF['SPNP_count'] = DF['outgoing_path_count_log']+DF['incoming_path_count_log']"
   ]
  },
  {
   "cell_type": "markdown",
   "metadata": {},
   "source": [
    "# Report patents' centrality in t+2, t+3, t+5 and t+8"
   ]
  },
  {
   "cell_type": "code",
   "execution_count": 14,
   "metadata": {},
   "outputs": [
    {
     "name": "stderr",
     "output_type": "stream",
     "text": [
      "/home/jeffrey_alstott/anaconda3/lib/python3.5/site-packages/ipykernel/__main__.py:2: SettingWithCopyWarning: \n",
      "A value is trying to be set on a copy of a slice from a DataFrame\n",
      "\n",
      "See the caveats in the documentation: http://pandas.pydata.org/pandas-docs/stable/indexing.html#indexing-view-versus-copy\n",
      "  from ipykernel import kernelapp as app\n",
      "/home/jeffrey_alstott/anaconda3/lib/python3.5/site-packages/ipykernel/__main__.py:3: SettingWithCopyWarning: \n",
      "A value is trying to be set on a copy of a slice from a DataFrame.\n",
      "Try using .loc[row_indexer,col_indexer] = value instead\n",
      "\n",
      "See the caveats in the documentation: http://pandas.pydata.org/pandas-docs/stable/indexing.html#indexing-view-versus-copy\n",
      "  app.launch_new_instance()\n"
     ]
    }
   ],
   "source": [
    "DF_patents = DF[DF['observation_year']==2015]\n",
    "DF_patents.drop(['observation_year'], axis=1, inplace=True)\n",
    "DF_patents['filing_year'] = G.vs['filing_year']"
   ]
  },
  {
   "cell_type": "code",
   "execution_count": 15,
   "metadata": {},
   "outputs": [
    {
     "name": "stderr",
     "output_type": "stream",
     "text": [
      "/home/jeffrey_alstott/anaconda3/lib/python3.5/site-packages/ipykernel/__main__.py:4: SettingWithCopyWarning: \n",
      "A value is trying to be set on a copy of a slice from a DataFrame.\n",
      "Try using .loc[row_indexer,col_indexer] = value instead\n",
      "\n",
      "See the caveats in the documentation: http://pandas.pydata.org/pandas-docs/stable/indexing.html#indexing-view-versus-copy\n",
      "/home/jeffrey_alstott/anaconda3/lib/python3.5/site-packages/ipykernel/__main__.py:5: DeprecationWarning: \n",
      ".ix is deprecated. Please use\n",
      ".loc for label based indexing or\n",
      ".iloc for positional indexing\n",
      "\n",
      "See the documentation here:\n",
      "http://pandas.pydata.org/pandas-docs/stable/indexing.html#deprecate_ix\n",
      "/home/jeffrey_alstott/anaconda3/lib/python3.5/site-packages/pandas/core/indexing.py:517: SettingWithCopyWarning: \n",
      "A value is trying to be set on a copy of a slice from a DataFrame.\n",
      "Try using .loc[row_indexer,col_indexer] = value instead\n",
      "\n",
      "See the caveats in the documentation: http://pandas.pydata.org/pandas-docs/stable/indexing.html#indexing-view-versus-copy\n",
      "  self.obj[item] = s\n",
      "  0%|          | 0/4 [00:00<?, ?it/s]/home/jeffrey_alstott/anaconda3/lib/python3.5/site-packages/ipykernel/__main__.py:8: SettingWithCopyWarning: \n",
      "A value is trying to be set on a copy of a slice from a DataFrame.\n",
      "Try using .loc[row_indexer,col_indexer] = value instead\n",
      "\n",
      "See the caveats in the documentation: http://pandas.pydata.org/pandas-docs/stable/indexing.html#indexing-view-versus-copy\n",
      "100%|██████████| 4/4 [03:00<00:00, 45.18s/it]\n"
     ]
    },
    {
     "name": "stdout",
     "output_type": "stream",
     "text": [
      "Done! Reporting patent centrality after x years took: 182.058928 seconds= 3.034315 minutes\n"
     ]
    }
   ],
   "source": [
    "ti = time.time()\n",
    "# for patents filed AFTER 1975 report their centrality 3/5/8 years after filing\n",
    "# for patents filed BEFORE 1975 report their centrality in 1978/1980/1983. To quickly do this create a \"fake filing year\"\n",
    "DF_patents['fake_filing_year'] = DF_patents['filing_year']\n",
    "DF_patents.ix[DF_patents['filing_year']<1975, 'fake_filing_year']=1975\n",
    "\n",
    "for horizon in tqdm([2,3,5,8]):\n",
    "    DF_patents['filing_year+%i'%horizon] = DF_patents['fake_filing_year']+horizon\n",
    "\n",
    "    # merge to add SPNP after $horizon years from filing\n",
    "    DF_patents = pd.merge(DF_patents, DF.drop(['incoming_path_count_log','outgoing_path_count_log'], axis=1), \n",
    "                          how='left', left_on=['patent_number','filing_year+%i'%horizon], \n",
    "                          right_on=['patent_number','observation_year'],\n",
    "                           suffixes=('', '_filing+%i'%horizon)\n",
    "                           )\n",
    "#                            sort=True,, copy=True, indicator=False)\n",
    "    del DF_patents['filing_year+%i'%horizon]\n",
    "    del DF_patents['observation_year']\n",
    "    \n",
    "    gc.collect()\n",
    "#     DF_patents.rename(columns={\"SPNP_count\": 'SPNP_count_t+%i'%horizon}, inplace=True)\n",
    "\n",
    "del DF_patents['fake_filing_year']\n",
    "DF_patents.rename(columns={'SPNP_count': 'SPNP_count_2015'}, inplace=True)\n",
    "DF_patents.rename(columns={'outgoing_path_count_log': 'outgoing_path_count_log_2015'}, inplace=True)\n",
    "# DF_patents.rename(columns={'incoming_path_count_log': 'incoming_path_count_log_2015'}, inplace=True)\n",
    "\n",
    "tf = time.time()\n",
    "final_time_length = tf-ti\n",
    "print('Done! Reporting patent centrality after x years took: %f seconds' %final_time_length + '= %f minutes' %(final_time_length/60))"
   ]
  },
  {
   "cell_type": "markdown",
   "metadata": {},
   "source": [
    "# Compute centrality of cited patents in t-1"
   ]
  },
  {
   "cell_type": "code",
   "execution_count": 16,
   "metadata": {
    "collapsed": true
   },
   "outputs": [],
   "source": [
    "citations = pd.merge(citations, DF,\n",
    "                      how='left', on=None, left_on=['Cited_Patent','Year_Citing_Patent'], \n",
    "                      right_on=['patent_number','observation_year'],\n",
    "                      )\n",
    "del citations['patent_number']\n",
    "del citations['observation_year']\n",
    "gc.collect()\n",
    "citations.rename(columns={\"SPNP_count\": 'SPNP_count_cited_year_of_citation'}, inplace=True)\n",
    "\n",
    "citations_grouped_by_citing = citations[['SPNP_count_cited_year_of_citation',\n",
    "                                          'Citing_Patent']].groupby(['Citing_Patent']).agg(['mean',\n",
    "                                                                                            'std'])\n",
    "\n",
    "DF_patents = pd.merge(DF_patents, citations_grouped_by_citing['SPNP_count_cited_year_of_citation'], \n",
    "                      how='left', left_on='patent_number', \n",
    "                      right_index=True)\n",
    "\n",
    "DF_patents.rename(columns={\"mean\": 'meanSPNPcited',\n",
    "                          \"std\": 'stdSPNPcited'}, inplace=True)"
   ]
  },
  {
   "cell_type": "markdown",
   "metadata": {},
   "source": [
    "Some patents are cited the same year they were filed. For these patents we have no information on their SPNP the year before they were cited. We need to compute their SPNP the moment before they were cited. This is done by multiplying the number of incoming paths of the cited patent by the number of citations received in the year they were filed. This is only an approximation of the number of their outgoing paths, but it is not a bad one because they are unlikely to be cited by other patents granted in the same year that have received citations themselves."
   ]
  },
  {
   "cell_type": "code",
   "execution_count": 17,
   "metadata": {},
   "outputs": [
    {
     "name": "stderr",
     "output_type": "stream",
     "text": [
      "/home/jeffrey_alstott/anaconda3/lib/python3.5/site-packages/ipykernel/__main__.py:32: DeprecationWarning: \n",
      ".ix is deprecated. Please use\n",
      ".loc for label based indexing or\n",
      ".iloc for positional indexing\n",
      "\n",
      "See the documentation here:\n",
      "http://pandas.pydata.org/pandas-docs/stable/indexing.html#deprecate_ix\n"
     ]
    }
   ],
   "source": [
    "citations['Year_Citing_Patent-1'] = citations['Year_Citing_Patent'] - 1\n",
    "\n",
    "citations = pd.merge(citations, DF.drop(['incoming_path_count_log', 'outgoing_path_count_log'], axis=1),\n",
    "                      how='left', on=None, left_on=['Cited_Patent','Year_Citing_Patent-1'], \n",
    "                      right_on=['patent_number','observation_year'],\n",
    "                      )\n",
    "del citations['patent_number']\n",
    "del citations['observation_year']\n",
    "del citations['Year_Citing_Patent-1']\n",
    "\n",
    "citations.rename(columns={\"SPNP_count\": 'SPNP_count_cited_1year_before_citation'}, inplace=True)\n",
    "\n",
    "#### some patents are cited the same year they were filed. For these patents we have no information on their SPNP the year before they were cited. We need to compute their SPNP the moment before they were cited. This is done by multiplying the number of incoming paths of the cited patent by the number of citations received in the year they were filed. This is only an approximation of the number of their outgoing paths, but it is not a bad one because they are unlikely to be cited by other patents granted in the same year that have received citations themselves.\n",
    "\n",
    "citations_same_year_ind = citations['Year_Citing_Patent']==citations['Year_Cited_Patent']\n",
    "citations_same_year_count = citations[citations_same_year_ind].groupby(['Cited_Patent']).size()\n",
    "citations_same_year_count.name = 'citations_at_zero'\n",
    "citations_same_year = pd.DataFrame(citations_same_year_count)\n",
    "\n",
    "citations_same_year = pd.merge(citations_same_year, \n",
    "                      pd.DataFrame({'count_incoming_paths':G.vs['count_incoming_paths']},\n",
    "                                  index=DF_patents['patent_number']), \n",
    "                      how='left', left_index=True, \n",
    "                      right_index=True\n",
    "                     )\n",
    "\n",
    "citations_same_year['SPNP_at_Year_Cited_Patent'] = (log(citations_same_year['count_incoming_paths']+1) +\n",
    "                                                    log(citations_same_year['citations_at_zero']-1+1)\n",
    "                                                    )\n",
    "\n",
    "citations.ix[citations_same_year_ind, \n",
    "             'SPNP_count_cited_1year_before_citation'] = citations_same_year.ix[citations.ix[citations_same_year_ind,\n",
    "                                                                                             'Cited_Patent'],\n",
    "                                                                                'SPNP_at_Year_Cited_Patent'\n",
    "                                                                               ].values\n",
    "del citations_same_year_ind, citations_same_year, citations_same_year_count"
   ]
  },
  {
   "cell_type": "code",
   "execution_count": 18,
   "metadata": {
    "collapsed": true
   },
   "outputs": [],
   "source": [
    "citations_grouped_by_citing = citations[['SPNP_count_cited_1year_before_citation',\n",
    "                                          'Citing_Patent']].groupby(['Citing_Patent']).agg(['mean',\n",
    "                                                                                            'std'])\n",
    "\n",
    "DF_patents = pd.merge(DF_patents, citations_grouped_by_citing['SPNP_count_cited_1year_before_citation'], \n",
    "                      how='left', left_on='patent_number', \n",
    "                      right_index=True)\n",
    "\n",
    "DF_patents.rename(columns={\"mean\": 'meanSPNPcited_1year_before',\n",
    "                          \"std\": 'stdSPNPcited_1year_before'}, inplace=True)"
   ]
  },
  {
   "cell_type": "code",
   "execution_count": 19,
   "metadata": {
    "collapsed": true
   },
   "outputs": [],
   "source": [
    "citations.rename(columns={\"incoming_path_count_log\": 'incoming_path_count_log_cited'}, inplace=True)\n",
    "\n",
    "citations_grouped_by_citing = citations[['incoming_path_count_log_cited',\n",
    "                                          'Citing_Patent']].groupby(['Citing_Patent']).agg(['mean',\n",
    "                                                                                            'std'])\n",
    "\n",
    "DF_patents = pd.merge(DF_patents, citations_grouped_by_citing['incoming_path_count_log_cited'], \n",
    "                      how='left', left_on='patent_number', \n",
    "                      right_index=True)\n",
    "\n",
    "DF_patents.rename(columns={\"mean\": 'mean_incoming_path_count_log_cited',\n",
    "                          \"std\": 'std_incoming_path_count_log_cited'}, inplace=True)"
   ]
  },
  {
   "cell_type": "markdown",
   "metadata": {},
   "source": [
    "Store data\n",
    "==="
   ]
  },
  {
   "cell_type": "code",
   "execution_count": 20,
   "metadata": {
    "collapsed": true
   },
   "outputs": [],
   "source": [
    "DF_patents['filing_year'] = DF_patents['filing_year'].astype('uint16')\n",
    "DF_patents['patent_number'] = DF_patents['patent_number'].astype('uint32')\n",
    "\n",
    "for c in DF_patents.columns:\n",
    "#     if c.startswith('SPNP_count'):\n",
    "#         DF_patents[c] = DF_patents[c].fillna(0).astype('uint64')\n",
    "    if DF_patents[c].dtype =='float':\n",
    "        DF_patents[c] = DF_patents[c].astype('float32')"
   ]
  },
  {
   "cell_type": "code",
   "execution_count": 21,
   "metadata": {
    "collapsed": true
   },
   "outputs": [],
   "source": [
    "if not randomized_control:\n",
    "    DF_patents.to_hdf(data_directory+'centralities/empirical.h5', 'df', complevel=9, complib='blosc')\n",
    "else:\n",
    "    DF_patents.to_hdf(data_directory+'centralities/controls/%s/synthetic_control_%i.h5'%(class_system,\n",
    "                                                                                         randomization_id), 'df', complevel=9, complib='blosc')"
   ]
  },
  {
   "cell_type": "code",
   "execution_count": 22,
   "metadata": {},
   "outputs": [
    {
     "name": "stdout",
     "output_type": "stream",
     "text": [
      "Done! Total job took: 4738.601073 seconds= 78.976685 minutes\n"
     ]
    }
   ],
   "source": [
    "final_time_length = time.time()-start_time\n",
    "\n",
    "print('Done! Total job took: %f seconds' %final_time_length + '= %f minutes' %(final_time_length/60))"
   ]
  }
 ],
 "metadata": {
  "anaconda-cloud": {},
  "kernelspec": {
   "display_name": "Python [default]",
   "language": "python",
   "name": "python3"
  },
  "language_info": {
   "codemirror_mode": {
    "name": "ipython",
    "version": 3
   },
   "file_extension": ".py",
   "mimetype": "text/x-python",
   "name": "python",
   "nbconvert_exporter": "python",
   "pygments_lexer": "ipython3",
   "version": "3.5.3"
  }
 },
 "nbformat": 4,
 "nbformat_minor": 1
}
