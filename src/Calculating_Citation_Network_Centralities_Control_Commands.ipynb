{
 "cells": [
  {
   "cell_type": "code",
   "execution_count": null,
   "metadata": {
    "collapsed": true
   },
   "outputs": [],
   "source": [
    "from os import path\n",
    "import sys\n",
    "python_location = path.dirname(sys.executable)+'/python'\n",
    "basic_program = open('Calculating_Citation_Network_Centralities.py', 'r').read()"
   ]
  },
  {
   "cell_type": "code",
   "execution_count": null,
   "metadata": {
    "collapsed": true
   },
   "outputs": [],
   "source": [
    "data_directory = '../data/'\n",
    "# job_type = 'citations'\n",
    "# job_type = 'cooccurrence'\n",
    "# entity = 'Firm'\n",
    "job_label = job_type\n",
    "\n",
    "try:\n",
    "    job_label += '_'+entity\n",
    "except NameError:\n",
    "    pass"
   ]
  },
  {
   "cell_type": "code",
   "execution_count": null,
   "metadata": {
    "collapsed": true
   },
   "outputs": [],
   "source": [
    "n_randomizations = 1000\n",
    "\n",
    "first_rand_id = None\n",
    "\n",
    "if first_rand_id is not None:\n",
    "    runs = range(first_rand_id,first_rand_id+n_randomizations)\n",
    "else:\n",
    "    from os import listdir\n",
    "    dirlist = listdir(data_directory+'centralities/%s/controls/%s/'%(job_type,class_system))\n",
    "    from pylab import *\n",
    "    unrun_iterations = ones(n_randomizations)\n",
    "\n",
    "    for f in dirlist:\n",
    "        if f.startswith('synthetic_control'):\n",
    "            n = int(f.split('_')[-1][:-3])\n",
    "            unrun_iterations[n] = 0\n",
    "\n",
    "    unrun_iterations = where(unrun_iterations)[0]\n",
    "\n",
    "    runs = unrun_iterations"
   ]
  },
  {
   "cell_type": "code",
   "execution_count": null,
   "metadata": {
    "collapsed": true
   },
   "outputs": [],
   "source": [
    "from os import system\n",
    "\n",
    "for randomization_id in runs:\n",
    "    header = \"\"\"#!{3}\n",
    "#PBS -l nodes=1:ppn=1\n",
    "#PBS -l walltime=3:00:00\n",
    "#PBS -l mem=20000m\n",
    "#PBS -N rand_{0}_{1}_{2}\n",
    "\n",
    "randomization_id = {0}\n",
    "print(\"Randomization number: %i\"%randomization_id)\n",
    "\"\"\".format(randomization_id, class_system, job_label, python_location)\n",
    "\n",
    "    options = \"\"\"\n",
    "class_system = '{0}'\n",
    "target_years = 'all'\n",
    "n_years = 'all'\n",
    "\n",
    "data_directory = '{1}'\n",
    "randomized_control = True\n",
    "n_years = None\n",
    "\"\"\".format(class_system, data_directory)\n",
    "\n",
    "    this_program = header+options+basic_program\n",
    "\n",
    "    this_job_file = 'jobfiles/randomization_{0}_{1}_{2}.py'.format(randomization_id, class_system, job_label)\n",
    "\n",
    "\n",
    "    f = open(this_job_file, 'w')\n",
    "    f.write(this_program)\n",
    "    f.close()\n",
    "\n",
    "    system('qsub '+this_job_file)"
   ]
  }
 ],
 "metadata": {
  "anaconda-cloud": {},
  "kernelspec": {
   "display_name": "Python [default]",
   "language": "python",
   "name": "python3"
  },
  "language_info": {
   "codemirror_mode": {
    "name": "ipython",
    "version": 3
   },
   "file_extension": ".py",
   "mimetype": "text/x-python",
   "name": "python",
   "nbconvert_exporter": "python",
   "pygments_lexer": "ipython3",
   "version": "3.5.2"
  }
 },
 "nbformat": 4,
 "nbformat_minor": 1
}
