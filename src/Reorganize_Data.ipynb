{
 "cells": [
  {
   "cell_type": "code",
   "execution_count": 2,
   "metadata": {
    "collapsed": true
   },
   "outputs": [],
   "source": [
    "import pandas as pd\n",
    "from pylab import *"
   ]
  },
  {
   "cell_type": "code",
   "execution_count": 3,
   "metadata": {
    "collapsed": true
   },
   "outputs": [],
   "source": [
    "data_input = '/home/jeffrey_alstott/Dropbox/Patent_centralities/'\n",
    "data_output = '/home/jeffrey_alstott/technoinnovation/patent_centralities/data/'"
   ]
  },
  {
   "cell_type": "code",
   "execution_count": 3,
   "metadata": {
    "collapsed": false
   },
   "outputs": [
    {
     "name": "stderr",
     "output_type": "stream",
     "text": [
      "/home/jeffrey_alstott/anaconda3/lib/python3.5/site-packages/IPython/core/interactiveshell.py:2717: DtypeWarning: Columns (7) have mixed types. Specify dtype option on import or set low_memory=False.\n",
      "  interactivity=interactivity, compiler=compiler, result=result)\n"
     ]
    }
   ],
   "source": [
    "patents = pd.read_csv(data_input+'PATENT_INFO.csv', \n",
    "                 usecols=['patent_number', 'filing_year', 'mainclass_id'])"
   ]
  },
  {
   "cell_type": "code",
   "execution_count": 4,
   "metadata": {
    "collapsed": true
   },
   "outputs": [],
   "source": [
    "def floatify(x):\n",
    "    from numpy import nan\n",
    "    try:\n",
    "        return float(x)\n",
    "    except ValueError:\n",
    "        return nan"
   ]
  },
  {
   "cell_type": "code",
   "execution_count": 5,
   "metadata": {
    "collapsed": true
   },
   "outputs": [],
   "source": [
    "# vc = patents['Class'].value_counts()\n",
    "# from pylab import array\n",
    "# vc[array(list(map(type, vc.index.values)))==str].sum()"
   ]
  },
  {
   "cell_type": "code",
   "execution_count": 6,
   "metadata": {
    "collapsed": false
   },
   "outputs": [],
   "source": [
    "patents['Class'] = patents['mainclass_id'].apply(floatify)"
   ]
  },
  {
   "cell_type": "code",
   "execution_count": 7,
   "metadata": {
    "collapsed": true
   },
   "outputs": [],
   "source": [
    "patents.dropna(inplace=True)"
   ]
  },
  {
   "cell_type": "code",
   "execution_count": 8,
   "metadata": {
    "collapsed": false
   },
   "outputs": [],
   "source": [
    "del patents['mainclass_id']"
   ]
  },
  {
   "cell_type": "code",
   "execution_count": 7,
   "metadata": {
    "collapsed": false
   },
   "outputs": [],
   "source": [
    "citations = pd.read_csv(data_input+'CITATION_INFO_classes_no_neg_citlag_CLEAN.csv', \n",
    "                usecols=['citing_id', 'cited_id', \n",
    "                         'filing_year_citing', 'filing_year_cited', \n",
    "                        ])"
   ]
  },
  {
   "cell_type": "code",
   "execution_count": 8,
   "metadata": {
    "collapsed": true
   },
   "outputs": [],
   "source": [
    "citations.rename(columns={\"citing_id\": 'Citing_Patent',\n",
    "                            \"cited_id\": 'Cited_Patent',\n",
    "                            \"filing_year_citing\": 'Year_Citing_Patent',\n",
    "                            \"filing_year_cited\": 'Year_Cited_Patent',\n",
    "                             }, inplace=True)"
   ]
  },
  {
   "cell_type": "code",
   "execution_count": 12,
   "metadata": {
    "collapsed": false
   },
   "outputs": [
    {
     "name": "stdout",
     "output_type": "stream",
     "text": [
      "(5224369, 3)\n",
      "(5077975, 3)\n"
     ]
    }
   ],
   "source": [
    "print(patents.shape)\n",
    "patents = patents[(patents['patent_number'].isin(citations['Cited_Patent']) | \n",
    "                   patents['patent_number'].isin(citations['Citing_Patent'])\n",
    "                   )]\n",
    "print(patents.shape)"
   ]
  },
  {
   "cell_type": "code",
   "execution_count": 13,
   "metadata": {
    "collapsed": true
   },
   "outputs": [],
   "source": [
    "patents.to_hdf(data_output+'patents.h5', 'df', complevel=9, complib='blosc')"
   ]
  },
  {
   "cell_type": "code",
   "execution_count": 5,
   "metadata": {
    "collapsed": true
   },
   "outputs": [],
   "source": [
    "patents.set_index('patent_number', inplace=True)"
   ]
  },
  {
   "cell_type": "code",
   "execution_count": 9,
   "metadata": {
    "collapsed": false
   },
   "outputs": [
    {
     "name": "stdout",
     "output_type": "stream",
     "text": [
      "Citing_Patent\n",
      "0\n",
      "2000000\n",
      "4000000\n",
      "6000000\n",
      "8000000\n",
      "10000000\n",
      "12000000\n",
      "14000000\n",
      "16000000\n",
      "18000000\n",
      "20000000\n",
      "22000000\n",
      "24000000\n",
      "26000000\n",
      "28000000\n",
      "30000000\n",
      "32000000\n",
      "34000000\n",
      "36000000\n",
      "38000000\n",
      "40000000\n",
      "42000000\n",
      "44000000\n",
      "46000000\n",
      "48000000\n",
      "50000000\n",
      "52000000\n",
      "54000000\n",
      "56000000\n",
      "Cited_Patent\n",
      "0\n",
      "2000000\n",
      "4000000\n",
      "6000000\n",
      "8000000\n",
      "10000000\n",
      "12000000\n",
      "14000000\n",
      "16000000\n",
      "18000000\n",
      "20000000\n",
      "22000000\n",
      "24000000\n",
      "26000000\n",
      "28000000\n",
      "30000000\n",
      "32000000\n",
      "34000000\n",
      "36000000\n",
      "38000000\n",
      "40000000\n",
      "42000000\n",
      "44000000\n",
      "46000000\n",
      "48000000\n",
      "50000000\n",
      "52000000\n",
      "54000000\n",
      "56000000\n"
     ]
    }
   ],
   "source": [
    "for patent_type in ['Citing_Patent', 'Cited_Patent']:\n",
    "    print(patent_type)\n",
    "    z = empty(citations.shape[0])\n",
    "    start_ind = 0\n",
    "    while start_ind<z.shape[0]:\n",
    "        print(start_ind)\n",
    "        stop_ind = start_ind+2000000\n",
    "        z[start_ind:stop_ind] = patents.ix[citations[start_ind:stop_ind][patent_type], 'Class']\n",
    "        start_ind = stop_ind\n",
    "    citations['Class_%s'%patent_type] = z"
   ]
  },
  {
   "cell_type": "code",
   "execution_count": 10,
   "metadata": {
    "collapsed": false
   },
   "outputs": [
    {
     "name": "stdout",
     "output_type": "stream",
     "text": [
      "(57770421, 6)\n",
      "(57656264, 6)\n"
     ]
    }
   ],
   "source": [
    "print(citations.shape)\n",
    "citations.dropna(inplace=True)\n",
    "print(citations.shape)"
   ]
  },
  {
   "cell_type": "code",
   "execution_count": 12,
   "metadata": {
    "collapsed": false
   },
   "outputs": [],
   "source": [
    "citations.to_hdf(data_output+'citations.h5', 'df', complevel=9, complib='blosc')"
   ]
  }
 ],
 "metadata": {
  "anaconda-cloud": {},
  "kernelspec": {
   "display_name": "Python [default]",
   "language": "python",
   "name": "python3"
  },
  "language_info": {
   "codemirror_mode": {
    "name": "ipython",
    "version": 3
   },
   "file_extension": ".py",
   "mimetype": "text/x-python",
   "name": "python",
   "nbconvert_exporter": "python",
   "pygments_lexer": "ipython3",
   "version": "3.5.2"
  }
 },
 "nbformat": 4,
 "nbformat_minor": 1
}
